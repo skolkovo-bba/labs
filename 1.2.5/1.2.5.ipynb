{
 "cells": [
  {
   "cell_type": "code",
   "execution_count": 127,
   "metadata": {},
   "outputs": [],
   "source": [
    "from IPython.display import Latex\n",
    "from IPython.display import Image\n",
    "from IPython.core.display import HTML "
   ]
  },
  {
   "cell_type": "code",
   "execution_count": 128,
   "metadata": {},
   "outputs": [],
   "source": [
    "import numpy as np\n",
    "import pandas as pd\n",
    "import matplotlib.pyplot as plt\n",
    "from scipy.optimize import curve_fit\n",
    "from math import sqrt, pi\n",
    "from labs import *"
   ]
  },
  {
   "attachments": {},
   "cell_type": "markdown",
   "metadata": {},
   "source": [
    "**Цель работы:** исследовать вынужденную прецессию гироскопа; установить зависимость скорости вынужденной прецессии от величины момента сил, действующих на ось гироскопа; определить скорость вращения ротора гироскопа и сравнить ее со скоростью, рассчитанной по скорости прецессии.\n",
    "\n",
    "**В работе используются:** гироскоп в кардановом подвесе, секундомер, набор грузов, от- дельный ротор гироскопа, цилиндр известной массы, крутильный маятник, штангенциркуль, линейка."
   ]
  },
  {
   "attachments": {},
   "cell_type": "markdown",
   "metadata": {},
   "source": [
    "**Для начала исмерим момент инерции ротора**\n",
    "\n",
    "Момент инерции $I_{0}$ можно определить по крутильным колебаниям точной копии, подвеши- ваемой вдоль оси симметрии к жесткой проволоке с модулем кручения $f$:\n",
    "$$T = 2 \\pi \\sqrt{\\frac{I_{0}}{f}}$$\n",
    "Чтобы исключить f подвешивают цилиндр правильной формы с моментом инерции $I_{ц}$, таким образом имеем:\n",
    "$$I_{0} = I_{ц} \\frac{T_{0}^2}{T_{ц}^2}$$"
   ]
  },
  {
   "cell_type": "code",
   "execution_count": 129,
   "metadata": {},
   "outputs": [
    {
     "data": {
      "text/plain": [
       "(0.00079±0.00001)"
      ]
     },
     "execution_count": 129,
     "metadata": {},
     "output_type": "execute_result"
    }
   ],
   "source": [
    "I0 = Value(7.9 * 10 ** (-4), 7.9 * 10 ** (-4) * 0.014)\n",
    "I0"
   ]
  },
  {
   "attachments": {},
   "cell_type": "markdown",
   "metadata": {},
   "source": [
    "Введем физические параметры системы и нашего мира."
   ]
  },
  {
   "cell_type": "code",
   "execution_count": 130,
   "metadata": {},
   "outputs": [],
   "source": [
    "g = Value(9.81, 0.01)\n",
    "a = Value(0.119, 0.001)\n",
    "m = Value(1.16168, 0.01)\n",
    "r = Value(0.082, 0.002) / 2"
   ]
  },
  {
   "attachments": {},
   "cell_type": "markdown",
   "metadata": {},
   "source": [
    "Проведем измерения времени вращенияя с разными массами и запишем результаты в csv файл. Для постороения графика $\\omega$ от $M$ посчитаем их по формулам:\n",
    "$$\\omega = \\frac{2\\pi}{\\frac{T}{N}}$$\n",
    "$$M = mg * a$$"
   ]
  },
  {
   "cell_type": "code",
   "execution_count": 131,
   "metadata": {},
   "outputs": [
    {
     "data": {
      "text/html": [
       "<div>\n",
       "<style scoped>\n",
       "    .dataframe tbody tr th:only-of-type {\n",
       "        vertical-align: middle;\n",
       "    }\n",
       "\n",
       "    .dataframe tbody tr th {\n",
       "        vertical-align: top;\n",
       "    }\n",
       "\n",
       "    .dataframe thead th {\n",
       "        text-align: right;\n",
       "    }\n",
       "</style>\n",
       "<table border=\"1\" class=\"dataframe\">\n",
       "  <thead>\n",
       "    <tr style=\"text-align: right;\">\n",
       "      <th></th>\n",
       "      <th>t</th>\n",
       "      <th>m</th>\n",
       "      <th>n</th>\n",
       "      <th>M</th>\n",
       "      <th>tau</th>\n",
       "      <th>omega</th>\n",
       "    </tr>\n",
       "  </thead>\n",
       "  <tbody>\n",
       "    <tr>\n",
       "      <th>0</th>\n",
       "      <td>(117.8±0.5)</td>\n",
       "      <td>(0.341±0.001)</td>\n",
       "      <td>4</td>\n",
       "      <td>(0.398±0.004)</td>\n",
       "      <td>(29.5±0.1)</td>\n",
       "      <td>(0.213±0.001)</td>\n",
       "    </tr>\n",
       "    <tr>\n",
       "      <th>1</th>\n",
       "      <td>(149.2±0.5)</td>\n",
       "      <td>(0.273±0.001)</td>\n",
       "      <td>4</td>\n",
       "      <td>(0.318±0.003)</td>\n",
       "      <td>(37.3±0.1)</td>\n",
       "      <td>(0.168±0.001)</td>\n",
       "    </tr>\n",
       "    <tr>\n",
       "      <th>2</th>\n",
       "      <td>(169.±0.5)</td>\n",
       "      <td>(0.178±0.001)</td>\n",
       "      <td>3</td>\n",
       "      <td>(0.208±0.002)</td>\n",
       "      <td>(56.3±0.2)</td>\n",
       "      <td>(0.1115±0.0003)</td>\n",
       "    </tr>\n",
       "    <tr>\n",
       "      <th>3</th>\n",
       "      <td>(183.9±0.5)</td>\n",
       "      <td>(0.219±0.001)</td>\n",
       "      <td>4</td>\n",
       "      <td>(0.256±0.002)</td>\n",
       "      <td>(46.±0.1)</td>\n",
       "      <td>(0.1366±0.0004)</td>\n",
       "    </tr>\n",
       "    <tr>\n",
       "      <th>4</th>\n",
       "      <td>(213.8±0.5)</td>\n",
       "      <td>(0.141±0.001)</td>\n",
       "      <td>3</td>\n",
       "      <td>(0.165±0.002)</td>\n",
       "      <td>(71.3±0.2)</td>\n",
       "      <td>(0.0881±0.0002)</td>\n",
       "    </tr>\n",
       "    <tr>\n",
       "      <th>5</th>\n",
       "      <td>(260.2±0.5)</td>\n",
       "      <td>(0.116±0.001)</td>\n",
       "      <td>3</td>\n",
       "      <td>(0.136±0.002)</td>\n",
       "      <td>(86.7±0.2)</td>\n",
       "      <td>(0.0724±0.0001)</td>\n",
       "    </tr>\n",
       "    <tr>\n",
       "      <th>6</th>\n",
       "      <td>(327.5±0.5)</td>\n",
       "      <td>(0.093±0.001)</td>\n",
       "      <td>3</td>\n",
       "      <td>(0.108±0.001)</td>\n",
       "      <td>(109.2±0.2)</td>\n",
       "      <td>(0.0576±0.0001)</td>\n",
       "    </tr>\n",
       "    <tr>\n",
       "      <th>8</th>\n",
       "      <td>(358.4±0.5)</td>\n",
       "      <td>(0.057±0.001)</td>\n",
       "      <td>2</td>\n",
       "      <td>(0.066±0.001)</td>\n",
       "      <td>(179.2±0.2)</td>\n",
       "      <td>(0.03507±0.00005)</td>\n",
       "    </tr>\n",
       "  </tbody>\n",
       "</table>\n",
       "</div>"
      ],
      "text/plain": [
       "             t              m  n              M          tau  \\\n",
       "0  (117.8±0.5)  (0.341±0.001)  4  (0.398±0.004)   (29.5±0.1)   \n",
       "1  (149.2±0.5)  (0.273±0.001)  4  (0.318±0.003)   (37.3±0.1)   \n",
       "2   (169.±0.5)  (0.178±0.001)  3  (0.208±0.002)   (56.3±0.2)   \n",
       "3  (183.9±0.5)  (0.219±0.001)  4  (0.256±0.002)    (46.±0.1)   \n",
       "4  (213.8±0.5)  (0.141±0.001)  3  (0.165±0.002)   (71.3±0.2)   \n",
       "5  (260.2±0.5)  (0.116±0.001)  3  (0.136±0.002)   (86.7±0.2)   \n",
       "6  (327.5±0.5)  (0.093±0.001)  3  (0.108±0.001)  (109.2±0.2)   \n",
       "8  (358.4±0.5)  (0.057±0.001)  2  (0.066±0.001)  (179.2±0.2)   \n",
       "\n",
       "               omega  \n",
       "0      (0.213±0.001)  \n",
       "1      (0.168±0.001)  \n",
       "2    (0.1115±0.0003)  \n",
       "3    (0.1366±0.0004)  \n",
       "4    (0.0881±0.0002)  \n",
       "5    (0.0724±0.0001)  \n",
       "6    (0.0576±0.0001)  \n",
       "8  (0.03507±0.00005)  "
      ]
     },
     "execution_count": 131,
     "metadata": {},
     "output_type": "execute_result"
    }
   ],
   "source": [
    "p = pd.read_csv(\"data.csv\")\n",
    "p[\"m\"] = p[\"m\"].agg(const_err(0.001))\n",
    "p[\"t\"] = p[\"t\"].agg(const_err(0.5))\n",
    "p[\"M\"] = p.m * a * g\n",
    "p[\"tau\"] = p[\"t\"] / p[\"n\"]\n",
    "p[\"omega\"] = 2 * pi / p[\"tau\"]\n",
    "p = p.drop(labels = [7],axis = 0)\n",
    "p"
   ]
  },
  {
   "attachments": {},
   "cell_type": "markdown",
   "metadata": {},
   "source": [
    "Ну а теперь построим график и апроксимируем зависимость"
   ]
  },
  {
   "cell_type": "code",
   "execution_count": 132,
   "metadata": {},
   "outputs": [
    {
     "data": {
      "text/plain": [
       "((0.534±0.002), (-0.±0.001))"
      ]
     },
     "execution_count": 132,
     "metadata": {},
     "output_type": "execute_result"
    }
   ],
   "source": [
    "def line(x, a, b):\n",
    "    return a * x + b\n",
    "\n",
    "params, cov = curve_fit(line, xdata= p[\"M\"], ydata=p[\"omega\"], )\n",
    "k = Value(params[0], np.sqrt(cov[0][0]))\n",
    "b = Value(params[1], np.sqrt(cov[1][1]))\n",
    "k, b"
   ]
  },
  {
   "attachments": {},
   "cell_type": "markdown",
   "metadata": {},
   "source": [
    "Вытащим из коэффициента наклона графика частоту вращения ротора:\n",
    "$$ \\omega_{р} = k * I_{0} * 2\\pi$$\n",
    "В оборотах в минуту это вот столько:"
   ]
  },
  {
   "cell_type": "code",
   "execution_count": 133,
   "metadata": {},
   "outputs": [
    {
     "data": {
      "text/plain": [
       "(377.1±5.5)"
      ]
     },
     "execution_count": 133,
     "metadata": {},
     "output_type": "execute_result"
    }
   ],
   "source": [
    "omega0 = 1 / (k * I0)\n",
    "omega0 / (2 * pi)"
   ]
  },
  {
   "cell_type": "code",
   "execution_count": 134,
   "metadata": {},
   "outputs": [
    {
     "data": {
      "text/plain": [
       "[<matplotlib.lines.Line2D at 0x298293430>]"
      ]
     },
     "execution_count": 134,
     "metadata": {},
     "output_type": "execute_result"
    },
    {
     "data": {
      "image/png": "[encoded data removed]",
      "text/plain": [
       "<Figure size 1280x720 with 1 Axes>"
      ]
     },
     "metadata": {
      "needs_background": "light"
     },
     "output_type": "display_data"
    }
   ],
   "source": [
    "plt.figure(figsize=(16, 9), dpi=80)\n",
    "plt.errorbar(x=p[\"M\"].agg(get_var), y=p[\"omega\"].agg(get_var),\n",
    "                xerr=p[\"M\"].agg(get_err), yerr=p[\"omega\"].agg(get_err), fmt='.')\n",
    "plt.grid(True)\n",
    "plt.title(\"omega(M)\", fontsize=25)\n",
    "plt.xlabel(\"M, м * кг\", fontsize=20)\n",
    "plt.ylabel(\"omega, 1 / с\", fontsize=20)\n",
    "plt.plot(p[\"M\"], line(p[\"M\"], params[0], params[1]), label=\"Истиная зависимость\")\n",
    "plt.plot(p[\"M\"], line(p[\"M\"], params[0] + k.err, params[1] + b.err))\n",
    "plt.plot(p[\"M\"], line(p[\"M\"], params[0] - k.err, params[1] - b.err))"
   ]
  },
  {
   "attachments": {},
   "cell_type": "markdown",
   "metadata": {},
   "source": [
    "Посчитаем момент сил опускания рычага:\n",
    "$$M_{тр} = I_{0} * \\omega_{0} * \\omega_{р}"
   ]
  },
  {
   "cell_type": "code",
   "execution_count": 135,
   "metadata": {},
   "outputs": [
    {
     "data": {
      "text/plain": [
       "(2369.2±34.7)"
      ]
     },
     "execution_count": 135,
     "metadata": {},
     "output_type": "execute_result"
    }
   ],
   "source": [
    "omega0"
   ]
  },
  {
   "cell_type": "code",
   "execution_count": 136,
   "metadata": {},
   "outputs": [
    {
     "data": {
      "text/plain": [
       "(0.00112±0.00002)"
      ]
     },
     "execution_count": 136,
     "metadata": {},
     "output_type": "execute_result"
    }
   ],
   "source": [
    "I0 * omega0 * Value(0.0006)"
   ]
  },
  {
   "cell_type": "code",
   "execution_count": 137,
   "metadata": {},
   "outputs": [
    {
     "data": {
      "text/html": [
       "<div>\n",
       "<style scoped>\n",
       "    .dataframe tbody tr th:only-of-type {\n",
       "        vertical-align: middle;\n",
       "    }\n",
       "\n",
       "    .dataframe tbody tr th {\n",
       "        vertical-align: top;\n",
       "    }\n",
       "\n",
       "    .dataframe thead th {\n",
       "        text-align: right;\n",
       "    }\n",
       "</style>\n",
       "<table border=\"1\" class=\"dataframe\">\n",
       "  <thead>\n",
       "    <tr style=\"text-align: right;\">\n",
       "      <th></th>\n",
       "      <th>t</th>\n",
       "      <th>x</th>\n",
       "      <th>y</th>\n",
       "    </tr>\n",
       "  </thead>\n",
       "  <tbody>\n",
       "    <tr>\n",
       "      <th>0</th>\n",
       "      <td>0</td>\n",
       "      <td>4.000000</td>\n",
       "      <td>-5.000000</td>\n",
       "    </tr>\n",
       "    <tr>\n",
       "      <th>1</th>\n",
       "      <td>1</td>\n",
       "      <td>3.375416</td>\n",
       "      <td>-4.219270</td>\n",
       "    </tr>\n",
       "    <tr>\n",
       "      <th>2</th>\n",
       "      <td>2</td>\n",
       "      <td>1.696716</td>\n",
       "      <td>-2.120895</td>\n",
       "    </tr>\n",
       "    <tr>\n",
       "      <th>3</th>\n",
       "      <td>3</td>\n",
       "      <td>-0.511855</td>\n",
       "      <td>0.639818</td>\n",
       "    </tr>\n",
       "    <tr>\n",
       "      <th>4</th>\n",
       "      <td>4</td>\n",
       "      <td>-2.560577</td>\n",
       "      <td>3.200722</td>\n",
       "    </tr>\n",
       "    <tr>\n",
       "      <th>...</th>\n",
       "      <td>...</td>\n",
       "      <td>...</td>\n",
       "      <td>...</td>\n",
       "    </tr>\n",
       "    <tr>\n",
       "      <th>95</th>\n",
       "      <td>95</td>\n",
       "      <td>-3.687145</td>\n",
       "      <td>4.608932</td>\n",
       "    </tr>\n",
       "    <tr>\n",
       "      <th>96</th>\n",
       "      <td>96</td>\n",
       "      <td>-2.279299</td>\n",
       "      <td>2.849123</td>\n",
       "    </tr>\n",
       "    <tr>\n",
       "      <th>97</th>\n",
       "      <td>97</td>\n",
       "      <td>-0.159645</td>\n",
       "      <td>0.199556</td>\n",
       "    </tr>\n",
       "    <tr>\n",
       "      <th>98</th>\n",
       "      <td>98</td>\n",
       "      <td>2.009865</td>\n",
       "      <td>-2.512331</td>\n",
       "    </tr>\n",
       "    <tr>\n",
       "      <th>99</th>\n",
       "      <td>99</td>\n",
       "      <td>3.551709</td>\n",
       "      <td>-4.439637</td>\n",
       "    </tr>\n",
       "  </tbody>\n",
       "</table>\n",
       "<p>100 rows × 3 columns</p>\n",
       "</div>"
      ],
      "text/plain": [
       "     t         x         y\n",
       "0    0  4.000000 -5.000000\n",
       "1    1  3.375416 -4.219270\n",
       "2    2  1.696716 -2.120895\n",
       "3    3 -0.511855  0.639818\n",
       "4    4 -2.560577  3.200722\n",
       "..  ..       ...       ...\n",
       "95  95 -3.687145  4.608932\n",
       "96  96 -2.279299  2.849123\n",
       "97  97 -0.159645  0.199556\n",
       "98  98  2.009865 -2.512331\n",
       "99  99  3.551709 -4.439637\n",
       "\n",
       "[100 rows x 3 columns]"
      ]
     },
     "execution_count": 137,
     "metadata": {},
     "output_type": "execute_result"
    }
   ],
   "source": [
    "a = pd.Series(np.array([i for i in range(0, 100)]))\n",
    "m = pd.DataFrame({\"t\": a})\n",
    "\n",
    "m[\"x\"] = 4 * np.cos(12 * m[\"t\"])\n",
    "m[\"y\"] = 5 * np.cos(12 * m[\"t\"] + pi)\n",
    "m"
   ]
  },
  {
   "cell_type": "code",
   "execution_count": 138,
   "metadata": {},
   "outputs": [
    {
     "data": {
      "text/plain": [
       "<ErrorbarContainer object of 3 artists>"
      ]
     },
     "execution_count": 138,
     "metadata": {},
     "output_type": "execute_result"
    },
    {
     "data": {
      "image/png": "[encoded data removed]",
      "text/plain": [
       "<Figure size 432x288 with 1 Axes>"
      ]
     },
     "metadata": {
      "needs_background": "light"
     },
     "output_type": "display_data"
    }
   ],
   "source": [
    "plt.errorbar(x=m[\"x\"], y=m[\"y\"])"
   ]
  }
 ],
 "metadata": {
  "kernelspec": {
   "display_name": "Python 3.10.5 64-bit",
   "language": "python",
   "name": "python3"
  },
  "language_info": {
   "codemirror_mode": {
    "name": "ipython",
    "version": 3
   },
   "file_extension": ".py",
   "mimetype": "text/x-python",
   "name": "python",
   "nbconvert_exporter": "python",
   "pygments_lexer": "ipython3",
   "version": "3.10.5"
  },
  "orig_nbformat": 4,
  "vscode": {
   "interpreter": {
    "hash": "aee8b7b246df8f9039afb4144a1f6fd8d2ca17a180786b69acc140d282b71a49"
   }
  }
 },
 "nbformat": 4,
 "nbformat_minor": 2
}
