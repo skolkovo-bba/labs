{
 "cells": [
  {
   "cell_type": "code",
   "execution_count": 144,
   "metadata": {},
   "outputs": [],
   "source": [
    "from IPython.display import Latex\n",
    "from IPython.display import Image\n",
    "from IPython.core.display import HTML "
   ]
  },
  {
   "cell_type": "code",
   "execution_count": 145,
   "metadata": {},
   "outputs": [],
   "source": [
    "import numpy as np\n",
    "import pandas as pd\n",
    "import matplotlib.pyplot as plt\n",
    "from scipy.optimize import curve_fit\n",
    "from math import sqrt, pi\n",
    "from labs import *"
   ]
  },
  {
   "attachments": {},
   "cell_type": "markdown",
   "metadata": {},
   "source": [
    "**Цель работы:** исследовать вынужденную прецессию гироскопа; установить зависимость скорости вынужденной прецессии от величины момента сил, действующих на ось гироскопа; определить скорость вращения ротора гироскопа и сравнить ее со скоростью, рассчитанной по скорости прецессии.\n",
    "\n",
    "**В работе используются:** гироскоп в кардановом подвесе, секундомер, набор грузов, от- дельный ротор гироскопа, цилиндр известной массы, крутильный маятник, штангенциркуль, линейка."
   ]
  },
  {
   "attachments": {},
   "cell_type": "markdown",
   "metadata": {},
   "source": [
    "**Для начала исмерим момент инерции ротора**\n",
    "\n",
    "Момент инерции $I_{0}$ можно определить по крутильным колебаниям точной копии, подвеши- ваемой вдоль оси симметрии к жесткой проволоке с модулем кручения $f$:\n",
    "$$T = 2 \\pi \\sqrt{\\frac{I_{0}}{f}}$$\n",
    "Чтобы исключить f подвешивают цилиндр правильной формы с моментом инерции $I_{ц}$, таким образом имеем:\n",
    "$$I_{0} = I_{ц} \\frac{T_{0}^2}{T_{ц}^2}$$"
   ]
  },
  {
   "cell_type": "code",
   "execution_count": 146,
   "metadata": {},
   "outputs": [],
   "source": [
    "I0 = Value(7.7 * 10 ** (-4), 0.000032)"
   ]
  },
  {
   "attachments": {},
   "cell_type": "markdown",
   "metadata": {},
   "source": [
    "Введем физические параметры системы и нашего мира."
   ]
  },
  {
   "cell_type": "code",
   "execution_count": 147,
   "metadata": {},
   "outputs": [],
   "source": [
    "g = Value(9.81, 0.01)\n",
    "a = Value(0.119, 0.003)\n",
    "m = Value(1.16168, 0.01)\n",
    "r = Value(0.082, 0.002) / 2"
   ]
  },
  {
   "attachments": {},
   "cell_type": "markdown",
   "metadata": {},
   "source": [
    "Проведем измерения времени вращенияя с разными массами и запишем результаты в csv файл. Для постороения графика $\\omega$ от $M$ посчитаем их по формулам:\n",
    "$$\\omega = \\frac{2\\pi}{\\frac{T}{N}}$$\n",
    "$$M = mg * a$$"
   ]
  },
  {
   "cell_type": "code",
   "execution_count": 148,
   "metadata": {},
   "outputs": [
    {
     "data": {
      "text/html": [
       "<div>\n",
       "<style scoped>\n",
       "    .dataframe tbody tr th:only-of-type {\n",
       "        vertical-align: middle;\n",
       "    }\n",
       "\n",
       "    .dataframe tbody tr th {\n",
       "        vertical-align: top;\n",
       "    }\n",
       "\n",
       "    .dataframe thead th {\n",
       "        text-align: right;\n",
       "    }\n",
       "</style>\n",
       "<table border=\"1\" class=\"dataframe\">\n",
       "  <thead>\n",
       "    <tr style=\"text-align: right;\">\n",
       "      <th></th>\n",
       "      <th>t</th>\n",
       "      <th>m</th>\n",
       "      <th>n</th>\n",
       "      <th>M</th>\n",
       "      <th>tau</th>\n",
       "      <th>omega</th>\n",
       "    </tr>\n",
       "  </thead>\n",
       "  <tbody>\n",
       "    <tr>\n",
       "      <th>0</th>\n",
       "      <td>(117.83±0.5)</td>\n",
       "      <td>(0.3411±0.001)</td>\n",
       "      <td>4</td>\n",
       "      <td>(0.398197±0.010114)</td>\n",
       "      <td>(29.4575±0.125)</td>\n",
       "      <td>(0.213297±0.000905)</td>\n",
       "    </tr>\n",
       "    <tr>\n",
       "      <th>1</th>\n",
       "      <td>(149.25±0.5)</td>\n",
       "      <td>(0.2725±0.001)</td>\n",
       "      <td>4</td>\n",
       "      <td>(0.318114±0.008111)</td>\n",
       "      <td>(37.3125±0.125)</td>\n",
       "      <td>(0.168394±0.000564)</td>\n",
       "    </tr>\n",
       "    <tr>\n",
       "      <th>2</th>\n",
       "      <td>(168.99±0.5)</td>\n",
       "      <td>(0.1785±0.001)</td>\n",
       "      <td>3</td>\n",
       "      <td>(0.208379±0.005386)</td>\n",
       "      <td>(56.33±0.166667)</td>\n",
       "      <td>(0.111542±0.00033)</td>\n",
       "    </tr>\n",
       "    <tr>\n",
       "      <th>3</th>\n",
       "      <td>(183.95±0.5)</td>\n",
       "      <td>(0.2192±0.001)</td>\n",
       "      <td>4</td>\n",
       "      <td>(0.255892±0.006561)</td>\n",
       "      <td>(45.9875±0.125)</td>\n",
       "      <td>(0.136628±0.000371)</td>\n",
       "    </tr>\n",
       "    <tr>\n",
       "      <th>4</th>\n",
       "      <td>(213.85±0.5)</td>\n",
       "      <td>(0.1412±0.001)</td>\n",
       "      <td>3</td>\n",
       "      <td>(0.164835±0.00432)</td>\n",
       "      <td>(71.283333±0.166667)</td>\n",
       "      <td>(0.088144±0.000206)</td>\n",
       "    </tr>\n",
       "    <tr>\n",
       "      <th>5</th>\n",
       "      <td>(260.24±0.5)</td>\n",
       "      <td>(0.1164±0.001)</td>\n",
       "      <td>3</td>\n",
       "      <td>(0.135884±0.003622)</td>\n",
       "      <td>(86.746667±0.166667)</td>\n",
       "      <td>(0.072431±0.000139)</td>\n",
       "    </tr>\n",
       "    <tr>\n",
       "      <th>6</th>\n",
       "      <td>(327.47±0.5)</td>\n",
       "      <td>(0.0928±0.001)</td>\n",
       "      <td>3</td>\n",
       "      <td>(0.108334±0.002972)</td>\n",
       "      <td>(109.156667±0.166667)</td>\n",
       "      <td>(0.057561±0.000088)</td>\n",
       "    </tr>\n",
       "    <tr>\n",
       "      <th>7</th>\n",
       "      <td>(245.45±0.5)</td>\n",
       "      <td>(0.0759±0.001)</td>\n",
       "      <td>2</td>\n",
       "      <td>(0.088605±0.002522)</td>\n",
       "      <td>(122.725±0.25)</td>\n",
       "      <td>(0.051197±0.000104)</td>\n",
       "    </tr>\n",
       "    <tr>\n",
       "      <th>8</th>\n",
       "      <td>(358.37±0.5)</td>\n",
       "      <td>(0.0566±0.001)</td>\n",
       "      <td>2</td>\n",
       "      <td>(0.066074±0.002035)</td>\n",
       "      <td>(179.185±0.25)</td>\n",
       "      <td>(0.035065±0.000049)</td>\n",
       "    </tr>\n",
       "  </tbody>\n",
       "</table>\n",
       "</div>"
      ],
      "text/plain": [
       "              t               m  n                    M  \\\n",
       "0  (117.83±0.5)  (0.3411±0.001)  4  (0.398197±0.010114)   \n",
       "1  (149.25±0.5)  (0.2725±0.001)  4  (0.318114±0.008111)   \n",
       "2  (168.99±0.5)  (0.1785±0.001)  3  (0.208379±0.005386)   \n",
       "3  (183.95±0.5)  (0.2192±0.001)  4  (0.255892±0.006561)   \n",
       "4  (213.85±0.5)  (0.1412±0.001)  3   (0.164835±0.00432)   \n",
       "5  (260.24±0.5)  (0.1164±0.001)  3  (0.135884±0.003622)   \n",
       "6  (327.47±0.5)  (0.0928±0.001)  3  (0.108334±0.002972)   \n",
       "7  (245.45±0.5)  (0.0759±0.001)  2  (0.088605±0.002522)   \n",
       "8  (358.37±0.5)  (0.0566±0.001)  2  (0.066074±0.002035)   \n",
       "\n",
       "                     tau                omega  \n",
       "0        (29.4575±0.125)  (0.213297±0.000905)  \n",
       "1        (37.3125±0.125)  (0.168394±0.000564)  \n",
       "2       (56.33±0.166667)   (0.111542±0.00033)  \n",
       "3        (45.9875±0.125)  (0.136628±0.000371)  \n",
       "4   (71.283333±0.166667)  (0.088144±0.000206)  \n",
       "5   (86.746667±0.166667)  (0.072431±0.000139)  \n",
       "6  (109.156667±0.166667)  (0.057561±0.000088)  \n",
       "7         (122.725±0.25)  (0.051197±0.000104)  \n",
       "8         (179.185±0.25)  (0.035065±0.000049)  "
      ]
     },
     "execution_count": 148,
     "metadata": {},
     "output_type": "execute_result"
    }
   ],
   "source": [
    "p = pd.read_csv(\"data.csv\")\n",
    "p[\"m\"] = p[\"m\"].agg(const_err(0.001))\n",
    "p[\"t\"] = p[\"t\"].agg(const_err(0.5))\n",
    "p[\"M\"] = p.m * a * g\n",
    "p[\"tau\"] = p[\"t\"] / p[\"n\"]\n",
    "p[\"omega\"] = 2 * pi / p[\"tau\"]\n",
    "p"
   ]
  },
  {
   "attachments": {},
   "cell_type": "markdown",
   "metadata": {},
   "source": [
    "Ну а теперь построим график и апроксимируем зависимость"
   ]
  },
  {
   "cell_type": "code",
   "execution_count": 149,
   "metadata": {},
   "outputs": [
    {
     "data": {
      "text/plain": [
       "((0.530026±0.004698), (0.001081±0.001037))"
      ]
     },
     "execution_count": 149,
     "metadata": {},
     "output_type": "execute_result"
    }
   ],
   "source": [
    "def line(x, a, b):\n",
    "    return a * x + b\n",
    "\n",
    "params, cov = curve_fit(line, xdata= p[\"M\"], ydata=p[\"omega\"], )\n",
    "k = Value(params[0], np.sqrt(cov[0][0]))\n",
    "b = Value(params[1], np.sqrt(cov[1][1]))\n",
    "k, b"
   ]
  },
  {
   "attachments": {},
   "cell_type": "markdown",
   "metadata": {},
   "source": [
    "Вытащим из коэффициента наклона графика частоту вращения ротора:\n",
    "$$ \\omega_{р} = k * I_{0} * 2\\pi$$\n",
    "В оборотах в минуту это вот столько:"
   ]
  },
  {
   "cell_type": "code",
   "execution_count": 150,
   "metadata": {},
   "outputs": [
    {
     "data": {
      "text/plain": [
       "(2450.258526±104.119599)"
      ]
     },
     "execution_count": 150,
     "metadata": {},
     "output_type": "execute_result"
    }
   ],
   "source": [
    "omega0 = 1 / (k * I0)\n",
    "omega0"
   ]
  },
  {
   "cell_type": "code",
   "execution_count": 151,
   "metadata": {},
   "outputs": [
    {
     "data": {
      "text/plain": [
       "[<matplotlib.lines.Line2D at 0x295123790>]"
      ]
     },
     "execution_count": 151,
     "metadata": {},
     "output_type": "execute_result"
    },
    {
     "data": {
      "image/png": "[encoded data removed]",
      "text/plain": [
       "<Figure size 1280x720 with 1 Axes>"
      ]
     },
     "metadata": {
      "needs_background": "light"
     },
     "output_type": "display_data"
    }
   ],
   "source": [
    "plt.figure(figsize=(16, 9), dpi=80)\n",
    "plt.errorbar(x=p[\"M\"].agg(get_var), y=p[\"omega\"].agg(get_var),\n",
    "                xerr=p[\"M\"].agg(get_err), yerr=p[\"omega\"].agg(get_err), fmt='.')\n",
    "plt.grid(True)\n",
    "plt.plot(p[\"M\"], line(p[\"M\"], params[0], params[1]), label=\"Истиная зависимость\")\n",
    "plt.plot(p[\"M\"], line(p[\"M\"], params[0] + k.err, params[1] + b.err))\n",
    "plt.plot(p[\"M\"], line(p[\"M\"], params[0] - k.err, params[1] - b.err))"
   ]
  },
  {
   "attachments": {},
   "cell_type": "markdown",
   "metadata": {},
   "source": [
    "Посчитаем момент сил опускания рычага:\n",
    "$$M_{тр} = I_{0} * \\omega_{0} * \\omega_{р}"
   ]
  },
  {
   "cell_type": "code",
   "execution_count": 152,
   "metadata": {},
   "outputs": [
    {
     "data": {
      "text/plain": [
       "(2450.258526±104.119599)"
      ]
     },
     "execution_count": 152,
     "metadata": {},
     "output_type": "execute_result"
    }
   ],
   "source": [
    "omega0"
   ]
  },
  {
   "cell_type": "code",
   "execution_count": 153,
   "metadata": {},
   "outputs": [
    {
     "data": {
      "text/plain": [
       "(0.001132±0.000067)"
      ]
     },
     "execution_count": 153,
     "metadata": {},
     "output_type": "execute_result"
    }
   ],
   "source": [
    "I0 * omega0 * Value(0.0006)"
   ]
  }
 ],
 "metadata": {
  "kernelspec": {
   "display_name": "Python 3.10.5 64-bit",
   "language": "python",
   "name": "python3"
  },
  "language_info": {
   "codemirror_mode": {
    "name": "ipython",
    "version": 3
   },
   "file_extension": ".py",
   "mimetype": "text/x-python",
   "name": "python",
   "nbconvert_exporter": "python",
   "pygments_lexer": "ipython3",
   "version": "3.10.5"
  },
  "orig_nbformat": 4,
  "vscode": {
   "interpreter": {
    "hash": "aee8b7b246df8f9039afb4144a1f6fd8d2ca17a180786b69acc140d282b71a49"
   }
  }
 },
 "nbformat": 4,
 "nbformat_minor": 2
}
