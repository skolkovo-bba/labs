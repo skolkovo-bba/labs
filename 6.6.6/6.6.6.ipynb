{
 "cells": [
  {
   "cell_type": "code",
   "execution_count": 31,
   "metadata": {},
   "outputs": [],
   "source": [
    "from IPython.display import Latex\n",
    "from IPython.display import Image\n",
    "from IPython.core.display import HTML "
   ]
  },
  {
   "cell_type": "markdown",
   "metadata": {},
   "source": [
    "Цель работы: с помощью оборотного маятника измерить величину ускорения свободного падения.\n",
    "\n",
    "Оборудование: оборотный маятник с двумя подвесными призмами и двумя грузами (чечевицами); электронный счётчик времени и числа колебаний; подставка с острием для определения положения центра масс маятника; закреплённая на стене консоль для подвешивания маятника; металлические линейки, штангенциркуль длиной 1 м."
   ]
  },
  {
   "cell_type": "markdown",
   "metadata": {},
   "source": [
    "Физический маятник - твёрдое тело, способное совершать \n",
    "колебания в вертикальной плоскости, будучи подвешено за одну из своих \n",
    "точек в поле тяжести. Ось, проходящая через точку подвес перпендикулярно плоскости качания, называется осью качания маятника. \n",
    "При малых колебаниях период колебаний физического маятника определяется формулой: $$T = 2\\pi\\sqrt{\\frac{I}{mgl}}\\quad (1)$$\n",
    "где I - момент инерциимаятника относительно оси качания, m - масса \n",
    "маятника, l -расстояние от оси качания до центра масс маятника. Если сравнить (1) с известной формулой колебаний математического \n",
    "маятника длиной l ($T = 2\\pi\\sqrt{\\frac{l}{g}}$) определить приведённую длину физического маятника как: \n",
    "$$l_{\\text{пр}} = \\frac{I}{ml} \\quad (2)$$\n",
    "\n",
    "![image](Рис.1.png)\n",
    "\n",
    "Пусть $O_{1}$ - точка подвеса физического маятника, а \n",
    "C - его центр масс. Отложим отрезок длиной $l_{пр}$ вдоль \n",
    "линии $O_{1}C$, и обозначим соответствующую точку как $O_{2}$ — эту точку называют центром качания физического маятника. Заметим, что приведённая длина всегда больше расстояния до центра масс, поэтому точка $O_{2}$ лежит по другую сторону от центра масс.\n",
    "Точки $O_{1}$ и $O_{2}$ обладают свойством взаимности: \n",
    "если перевернуть маятник и подвесить его за точку $O_{2}$\n",
    "то его период малых колебаний останется таким же, как \n",
    "и при подвешивании за точку $O_{1}$.\n",
    "$$T_{1} = 2\\pi\\sqrt{\\frac{I_{1}}{mgl_{1}}}, \\quad T_{2} = 2\\pi\\sqrt{\\frac{I_{2}}{mgl_{2}}} \\quad (3)$$\n",
    "$$I_{1} = I_{c} + ml_{1}^2, \\quad I_{2} = I_{c} + ml_{2}^2 \\quad (4)$$\n",
    "где $I_{c}$ - момент инерции относительно оси, проходящей через точку С.\n",
    "$$I_{c} = ml_{1}l_{2} \\quad (5)$$\n",
    "\n",
    "Посчитаем $T_{min}$ (минимум времени колебаний). Для этого возьмем производную от вот этого куска формулы (3), подставив формулу (4).\n",
    "$$g = \\frac{I_{c} + ml_{1}^2}{mgl_{1}} \\quad (6)$$\n",
    "Приравняем ее к нулю и увидим что в этой точке $l_{1min}$:\n",
    "$$l_{1min} = \\sqrt{\\frac{I_{c}}{m}} \\quad (7)$$\n",
    "Из формул (1) и (2) выведем $g$:\n",
    "$$g = \\frac{4l_{пр}\\pi^2}{T^2} \\quad (8)$$\n",
    "Так как идеального соответствия между $T_{1}$ и $T_{2}$ добиться невозможно то из формул (3), (4) и (5) можно выразить $g$:\n",
    "$$g = 4\\pi^2 \\frac{l_{1}^2 - l_{2}^2}{T_{1}^2l_{1} - T_{2}^2l_{2}} \\quad (9)$$"
   ]
  },
  {
   "cell_type": "markdown",
   "metadata": {},
   "source": [
    "Проведем 3 измерения сотни колебаний и запишем данные в csv. Теперь приступим к обработке данных."
   ]
  },
  {
   "cell_type": "code",
   "execution_count": 32,
   "metadata": {},
   "outputs": [],
   "source": [
    "import numpy as np\n",
    "import pandas as pd\n",
    "import matplotlib.pyplot as plt\n",
    "from scipy.optimize import curve_fit\n",
    "from math import sqrt, pi"
   ]
  },
  {
   "cell_type": "code",
   "execution_count": 33,
   "metadata": {},
   "outputs": [
    {
     "data": {
      "text/html": [
       "<div>\n",
       "<style scoped>\n",
       "    .dataframe tbody tr th:only-of-type {\n",
       "        vertical-align: middle;\n",
       "    }\n",
       "\n",
       "    .dataframe tbody tr th {\n",
       "        vertical-align: top;\n",
       "    }\n",
       "\n",
       "    .dataframe thead th {\n",
       "        text-align: right;\n",
       "    }\n",
       "</style>\n",
       "<table border=\"1\" class=\"dataframe\">\n",
       "  <thead>\n",
       "    <tr style=\"text-align: right;\">\n",
       "      <th></th>\n",
       "      <th>y</th>\n",
       "      <th>x</th>\n",
       "    </tr>\n",
       "  </thead>\n",
       "  <tbody>\n",
       "    <tr>\n",
       "      <th>0</th>\n",
       "      <td>0.213180</td>\n",
       "      <td>0.398100</td>\n",
       "    </tr>\n",
       "    <tr>\n",
       "      <th>1</th>\n",
       "      <td>0.168308</td>\n",
       "      <td>0.318100</td>\n",
       "    </tr>\n",
       "    <tr>\n",
       "      <th>2</th>\n",
       "      <td>0.111480</td>\n",
       "      <td>0.208380</td>\n",
       "    </tr>\n",
       "    <tr>\n",
       "      <th>3</th>\n",
       "      <td>0.136560</td>\n",
       "      <td>0.255890</td>\n",
       "    </tr>\n",
       "    <tr>\n",
       "      <th>4</th>\n",
       "      <td>0.088099</td>\n",
       "      <td>0.164835</td>\n",
       "    </tr>\n",
       "    <tr>\n",
       "      <th>5</th>\n",
       "      <td>0.072395</td>\n",
       "      <td>0.135880</td>\n",
       "    </tr>\n",
       "    <tr>\n",
       "      <th>6</th>\n",
       "      <td>0.057532</td>\n",
       "      <td>0.108330</td>\n",
       "    </tr>\n",
       "    <tr>\n",
       "      <th>7</th>\n",
       "      <td>0.051171</td>\n",
       "      <td>0.088604</td>\n",
       "    </tr>\n",
       "    <tr>\n",
       "      <th>8</th>\n",
       "      <td>0.035048</td>\n",
       "      <td>0.066074</td>\n",
       "    </tr>\n",
       "  </tbody>\n",
       "</table>\n",
       "</div>"
      ],
      "text/plain": [
       "          y         x\n",
       "0  0.213180  0.398100\n",
       "1  0.168308  0.318100\n",
       "2  0.111480  0.208380\n",
       "3  0.136560  0.255890\n",
       "4  0.088099  0.164835\n",
       "5  0.072395  0.135880\n",
       "6  0.057532  0.108330\n",
       "7  0.051171  0.088604\n",
       "8  0.035048  0.066074"
      ]
     },
     "execution_count": 33,
     "metadata": {},
     "output_type": "execute_result"
    }
   ],
   "source": [
    "p = pd.read_csv(\"data.csv\")\n",
    "p"
   ]
  },
  {
   "cell_type": "code",
   "execution_count": 34,
   "metadata": {},
   "outputs": [
    {
     "name": "stdout",
     "output_type": "stream",
     "text": [
      "a = 0.53 ± 0.0047\n",
      "b = 0.00107 ± 0.001\n"
     ]
    }
   ],
   "source": [
    "def line(x, a, b):\n",
    "    return a * x + b\n",
    "\n",
    "params, cov = curve_fit(line, xdata= p[\"x\"], ydata=p[\"y\"], )\n",
    "print(f\"a = {params[0]:.3} \\u00B1 {np.sqrt(cov[0][0]):.2}\")\n",
    "print(f\"b = {params[1]:.3} \\u00B1 {np.sqrt(cov[1][1]):.2}\")"
   ]
  },
  {
   "cell_type": "code",
   "execution_count": 36,
   "metadata": {},
   "outputs": [
    {
     "data": {
      "text/plain": [
       "[<matplotlib.lines.Line2D at 0x17fcc3e80>]"
      ]
     },
     "execution_count": 36,
     "metadata": {},
     "output_type": "execute_result"
    },
    {
     "data": {
      "image/png": "[encoded data removed]",
      "text/plain": [
       "<Figure size 1280x720 with 1 Axes>"
      ]
     },
     "metadata": {
      "needs_background": "light"
     },
     "output_type": "display_data"
    }
   ],
   "source": [
    "plt.figure(figsize=(16, 9), dpi=80)\n",
    "plt.errorbar(x=p[\"x\"], y=p[\"y\"], fmt='.')\n",
    "plt.title(r\"$T^2(h^2)$\", fontsize=25)\n",
    "plt.xlabel(r\"$h^2, см^2$\", fontsize=20)\n",
    "plt.ylabel(r\"$T^2, с^2$\", fontsize=20)\n",
    "plt.grid(True)\n",
    "plt.plot(p[\"x\"], line(p[\"x\"], params[0], params[1]), label=\"Истиная зависимость\")"
   ]
  }
 ],
 "metadata": {
  "kernelspec": {
   "display_name": "Python 3.10.5 64-bit",
   "language": "python",
   "name": "python3"
  },
  "language_info": {
   "codemirror_mode": {
    "name": "ipython",
    "version": 3
   },
   "file_extension": ".py",
   "mimetype": "text/x-python",
   "name": "python",
   "nbconvert_exporter": "python",
   "pygments_lexer": "ipython3",
   "version": "3.10.5"
  },
  "orig_nbformat": 4,
  "vscode": {
   "interpreter": {
    "hash": "aee8b7b246df8f9039afb4144a1f6fd8d2ca17a180786b69acc140d282b71a49"
   }
  }
 },
 "nbformat": 4,
 "nbformat_minor": 2
}
