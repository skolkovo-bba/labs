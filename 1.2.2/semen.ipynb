{
 "cells": [
  {
   "cell_type": "code",
   "execution_count": 1,
   "metadata": {},
   "outputs": [],
   "source": [
    "import numpy as np\n",
    "import pandas as pd\n",
    "import matplotlib.pyplot as plt\n",
    "from scipy.optimize import curve_fit\n",
    "from math import sqrt"
   ]
  },
  {
   "cell_type": "code",
   "execution_count": 2,
   "metadata": {},
   "outputs": [
    {
     "name": "stderr",
     "output_type": "stream",
     "text": [
      "/var/folders/22/r034tgc508146mmzbyqzpmqm0000gn/T/ipykernel_14483/1507317486.py:3: SettingWithCopyWarning: \n",
      "A value is trying to be set on a copy of a slice from a DataFrame.\n",
      "Try using .loc[row_indexer,col_indexer] = value instead\n",
      "\n",
      "See the caveats in the documentation: https://pandas.pydata.org/pandas-docs/stable/user_guide/indexing.html#returning-a-view-versus-a-copy\n",
      "  a[\"merr\"] = 0.1\n",
      "/var/folders/22/r034tgc508146mmzbyqzpmqm0000gn/T/ipykernel_14483/1507317486.py:4: SettingWithCopyWarning: \n",
      "A value is trying to be set on a copy of a slice from a DataFrame.\n",
      "Try using .loc[row_indexer,col_indexer] = value instead\n",
      "\n",
      "See the caveats in the documentation: https://pandas.pydata.org/pandas-docs/stable/user_guide/indexing.html#returning-a-view-versus-a-copy\n",
      "  a[\"berr\"] = 0.003\n"
     ]
    }
   ],
   "source": [
    "p = pd.read_csv(\"semen.csv\")\n",
    "a = p[4:]\n",
    "a[\"merr\"] = 0.1\n",
    "a[\"berr\"] = 0.003"
   ]
  },
  {
   "cell_type": "code",
   "execution_count": 3,
   "metadata": {},
   "outputs": [
    {
     "data": {
      "text/html": [
       "<div>\n",
       "<style scoped>\n",
       "    .dataframe tbody tr th:only-of-type {\n",
       "        vertical-align: middle;\n",
       "    }\n",
       "\n",
       "    .dataframe tbody tr th {\n",
       "        vertical-align: top;\n",
       "    }\n",
       "\n",
       "    .dataframe thead th {\n",
       "        text-align: right;\n",
       "    }\n",
       "</style>\n",
       "<table border=\"1\" class=\"dataframe\">\n",
       "  <thead>\n",
       "    <tr style=\"text-align: right;\">\n",
       "      <th></th>\n",
       "      <th>b0</th>\n",
       "      <th>m</th>\n",
       "      <th>merr</th>\n",
       "      <th>berr</th>\n",
       "    </tr>\n",
       "  </thead>\n",
       "  <tbody>\n",
       "    <tr>\n",
       "      <th>4</th>\n",
       "      <td>0.459800</td>\n",
       "      <td>51.0</td>\n",
       "      <td>0.1</td>\n",
       "      <td>0.003</td>\n",
       "    </tr>\n",
       "    <tr>\n",
       "      <th>5</th>\n",
       "      <td>0.306008</td>\n",
       "      <td>30.0</td>\n",
       "      <td>0.1</td>\n",
       "      <td>0.003</td>\n",
       "    </tr>\n",
       "    <tr>\n",
       "      <th>6</th>\n",
       "      <td>0.413633</td>\n",
       "      <td>45.0</td>\n",
       "      <td>0.1</td>\n",
       "      <td>0.003</td>\n",
       "    </tr>\n",
       "    <tr>\n",
       "      <th>7</th>\n",
       "      <td>0.780000</td>\n",
       "      <td>98.7</td>\n",
       "      <td>0.1</td>\n",
       "      <td>0.003</td>\n",
       "    </tr>\n",
       "    <tr>\n",
       "      <th>8</th>\n",
       "      <td>0.524550</td>\n",
       "      <td>62.8</td>\n",
       "      <td>0.1</td>\n",
       "      <td>0.003</td>\n",
       "    </tr>\n",
       "  </tbody>\n",
       "</table>\n",
       "</div>"
      ],
      "text/plain": [
       "         b0     m  merr   berr\n",
       "4  0.459800  51.0   0.1  0.003\n",
       "5  0.306008  30.0   0.1  0.003\n",
       "6  0.413633  45.0   0.1  0.003\n",
       "7  0.780000  98.7   0.1  0.003\n",
       "8  0.524550  62.8   0.1  0.003"
      ]
     },
     "execution_count": 3,
     "metadata": {},
     "output_type": "execute_result"
    }
   ],
   "source": [
    "a"
   ]
  },
  {
   "cell_type": "code",
   "execution_count": 4,
   "metadata": {},
   "outputs": [],
   "source": [
    "def line(x, a, b):\n",
    "    return a * x + b\n",
    "\n",
    "params, cov = curve_fit(line, xdata=a[\"m\"], ydata=a[\"b0\"], )"
   ]
  },
  {
   "cell_type": "code",
   "execution_count": 5,
   "metadata": {},
   "outputs": [
    {
     "data": {
      "image/png": "[encoded data removed]",
      "text/plain": [
       "<Figure size 1280x720 with 1 Axes>"
      ]
     },
     "metadata": {
      "needs_background": "light"
     },
     "output_type": "display_data"
    }
   ],
   "source": [
    "plt.figure(figsize=(16, 9), dpi=80)\n",
    "plt.errorbar(x=a[\"m\"], y=a[\"b0\"], xerr=a[\"merr\"], yerr=a[\"berr\"], fmt='.', label='Экспериментальные точки')\n",
    "plt.title(r\"$b0(m)$\", fontsize=25)\n",
    "plt.xlabel(r\"$m$\", fontsize=20)\n",
    "plt.ylabel(r\"$b0$\", fontsize=20)\n",
    "plt.grid(True)\n",
    "plt.legend()\n",
    "plt.plot(a[\"m\"], line(a[\"m\"], params[0], params[1]), label=\"Истиная зависимость\")\n",
    "plt.savefig(\"semen1.png\")"
   ]
  },
  {
   "cell_type": "code",
   "execution_count": 6,
   "metadata": {},
   "outputs": [
    {
     "name": "stdout",
     "output_type": "stream",
     "text": [
      "a = 0.00684 ± 0.00013\n",
      "b = 0.103 ± 0.0083\n"
     ]
    }
   ],
   "source": [
    "print(f\"a = {params[0]:.3} \\u00B1 {np.sqrt(cov[0][0]):.2}\")\n",
    "print(f\"b = {params[1]:.3} \\u00B1 {np.sqrt(cov[1][1]):.2}\")"
   ]
  }
 ],
 "metadata": {
  "kernelspec": {
   "display_name": "Python 3.10.5 64-bit",
   "language": "python",
   "name": "python3"
  },
  "language_info": {
   "codemirror_mode": {
    "name": "ipython",
    "version": 3
   },
   "file_extension": ".py",
   "mimetype": "text/x-python",
   "name": "python",
   "nbconvert_exporter": "python",
   "pygments_lexer": "ipython3",
   "version": "3.10.5"
  },
  "orig_nbformat": 4,
  "vscode": {
   "interpreter": {
    "hash": "aee8b7b246df8f9039afb4144a1f6fd8d2ca17a180786b69acc140d282b71a49"
   }
  }
 },
 "nbformat": 4,
 "nbformat_minor": 2
}
